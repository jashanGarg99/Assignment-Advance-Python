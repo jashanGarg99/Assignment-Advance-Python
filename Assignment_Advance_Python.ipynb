{
  "nbformat": 4,
  "nbformat_minor": 0,
  "metadata": {
    "colab": {
      "provenance": [],
      "authorship_tag": "ABX9TyPh6weAGWfKiuKRBFqeOSLp",
      "include_colab_link": true
    },
    "kernelspec": {
      "name": "python3",
      "display_name": "Python 3"
    },
    "language_info": {
      "name": "python"
    }
  },
  "cells": [
    {
      "cell_type": "markdown",
      "metadata": {
        "id": "view-in-github",
        "colab_type": "text"
      },
      "source": [
        "<a href=\"https://colab.research.google.com/github/jashanGarg99/Assignment-Advance-Python/blob/main/Assignment_Advance_Python.ipynb\" target=\"_parent\"><img src=\"https://colab.research.google.com/assets/colab-badge.svg\" alt=\"Open In Colab\"/></a>"
      ]
    },
    {
      "cell_type": "code",
      "execution_count": null,
      "metadata": {
        "colab": {
          "base_uri": "https://localhost:8080/"
        },
        "id": "VL0zE8PiFb9w",
        "outputId": "a6461954-5af7-4307-ec7a-936766c4211d"
      },
      "outputs": [
        {
          "output_type": "stream",
          "name": "stdout",
          "text": [
            "1000 random strings written to random_strings.txt\n"
          ]
        }
      ],
      "source": [
        "import random\n",
        "import string\n",
        "\n",
        "# Number of lines and length of each random string\n",
        "num_lines = 1000\n",
        "string_length = 16\n",
        "\n",
        "# Output file name\n",
        "filename = \"random_strings.txt\"\n",
        "\n",
        "# Function to generate a random string\n",
        "def generate_random_string(length):\n",
        "    return ''.join(random.choices(string.ascii_letters + string.digits, k=length))\n",
        "\n",
        "# Writing to file\n",
        "with open(filename, \"w\") as f:\n",
        "    for _ in range(num_lines):\n",
        "        f.write(generate_random_string(string_length) + \"\\n\")\n",
        "\n",
        "print(f\"{num_lines} random strings written to {filename}\")\n"
      ]
    },
    {
      "cell_type": "code",
      "source": [
        "import os\n",
        "import random\n",
        "import string\n",
        "\n",
        "filename = \"random_5mb_file.txt\"\n",
        "target_size = 5 * 1024 * 1024  # 5 MB in bytes\n",
        "line_length = 100  # Approximate length of each line (excluding newline)\n",
        "\n",
        "def generate_random_line(length):\n",
        "    return ''.join(random.choices(string.ascii_letters + string.digits, k=length))\n",
        "\n",
        "with open(filename, \"w\") as f:\n",
        "    while True:\n",
        "        line = generate_random_line(line_length) + \"\\n\"\n",
        "        f.write(line)\n",
        "\n",
        "        # Check if file size reached or exceeded 5 MB\n",
        "        if f.tell() >= target_size:\n",
        "            break\n",
        "\n",
        "print(f\"File '{filename}' created with size ≈ {os.path.getsize(filename) / (1024*1024):.2f} MB\")\n"
      ],
      "metadata": {
        "colab": {
          "base_uri": "https://localhost:8080/"
        },
        "id": "r_EKrYZPGEfi",
        "outputId": "170644d4-a8fb-45b2-b12a-75ff7df5ff35"
      },
      "execution_count": null,
      "outputs": [
        {
          "output_type": "stream",
          "name": "stdout",
          "text": [
            "File 'random_5mb_file.txt' created with size ≈ 5.00 MB\n"
          ]
        }
      ]
    },
    {
      "cell_type": "code",
      "source": [
        "import os\n",
        "import random\n",
        "import string\n",
        "\n",
        "target_size = 5 * 1024 * 1024  # 5 MB in bytes\n",
        "line_length = 100\n",
        "\n",
        "def generate_random_line(length):\n",
        "  return ''.join(random.choices(string.ascii_letters + string.digits, k=length))\n",
        "\n",
        "for i in range(5):\n",
        "  filename = f\"random_5mb_file_{i}.txt\"\n",
        "  with open(filename, 'w') as f:\n",
        "    while True:\n",
        "      line = generate_random_line(line_length) + \"\\n\"\n",
        "      f.write(line)\n",
        "\n",
        "      if f.tell() >= target_size:\n",
        "        break\n",
        "for i in range(5):\n",
        "  filename = f\"random_5mb_file_{i}.txt\"\n",
        "  print(f\"File 'random_5mb_file_{i}.txt' created with size ≈ {os.path.getsize(filename) / (1024*1024):.2f} MB\")"
      ],
      "metadata": {
        "colab": {
          "base_uri": "https://localhost:8080/"
        },
        "id": "iHBuTHYhGz05",
        "outputId": "3acad37c-917b-4080-f3e7-fd6ed12de686"
      },
      "execution_count": null,
      "outputs": [
        {
          "output_type": "stream",
          "name": "stdout",
          "text": [
            "File 'random_5mb_file_0.txt' created with size ≈ 5.00 MB\n",
            "File 'random_5mb_file_1.txt' created with size ≈ 5.00 MB\n",
            "File 'random_5mb_file_2.txt' created with size ≈ 5.00 MB\n",
            "File 'random_5mb_file_3.txt' created with size ≈ 5.00 MB\n",
            "File 'random_5mb_file_4.txt' created with size ≈ 5.00 MB\n"
          ]
        }
      ]
    }
  ]
}